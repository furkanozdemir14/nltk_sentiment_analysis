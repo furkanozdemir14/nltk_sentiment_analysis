{
 "cells": [
  {
   "cell_type": "code",
   "execution_count": 19,
   "metadata": {},
   "outputs": [],
   "source": [
    "#EEM731_ÖrüntüTanıma_Final_Projesi\n",
    "#Duygu - Memnuniyet Analizi Çalışması\n",
    "\n",
    "#Duygu analizi algoritmasında tanımlı anahtar kelimeler ile Pozitif-Negatif ve Nötr olarak 3 farklı duygu durumu hakkında çıkarım yapılabilir.\n",
    "\n",
    "#Film değerlendirmeleri hakkında pozitif ve negatif yorumları içeren NLTK \"movie_reviews\" veri seti kullanılmıştır.\n",
    "#NaiveBayesClassifier sınıflandırıcısı kullanılarak farklı eğitim ve test değerleri ile analiz gerçekleştirilmiştir."
   ]
  },
  {
   "cell_type": "code",
   "execution_count": 20,
   "metadata": {},
   "outputs": [],
   "source": [
    "# nltk Natural Language Toolkit kütüphanesi ve açık kaynak olarak sunulan movie_reviews veri seti içe aktarılır.\n",
    "import nltk\n",
    "from nltk.corpus import movie_reviews"
   ]
  },
  {
   "cell_type": "code",
   "execution_count": 21,
   "metadata": {},
   "outputs": [],
   "source": [
    "#Veri setinde geçen bileşenlere ait dizi oluşturulur. \n",
    "#Birinci alanda yorum, ikinci alanda negatif-pozitif etiketlerine yer verilir.\n",
    "\n",
    "documents=[(list(movie_reviews.words(fileid)), category)\n",
    "          for category in movie_reviews.categories()\n",
    "          for fileid in movie_reviews.fileids(category)]"
   ]
  },
  {
   "cell_type": "code",
   "execution_count": 32,
   "metadata": {},
   "outputs": [],
   "source": [
    "#Dökümanda yer alan veriler random modülünde bulunan shuffle metodu ile karıştırılır.\n",
    "#Bu sayede birinci alanda yorum, ikinci alanda durum etiketi olan döküman oluşturulur.\n",
    "import random\n",
    "random.shuffle(documents)"
   ]
  },
  {
   "cell_type": "code",
   "execution_count": 33,
   "metadata": {},
   "outputs": [],
   "source": [
    "#Kelimelere ait sıklık dağılımı oluşturulur.\n",
    "all_words = nltk.FreqDist(w.lower() for w in movie_reviews.words())"
   ]
  },
  {
   "cell_type": "code",
   "execution_count": 34,
   "metadata": {},
   "outputs": [],
   "source": [
    "#En çok kullanılan 3000 kelime word_features değişkenine tanımlanır.\n",
    "word_features=list(all_words.keys()) [:3000]"
   ]
  },
  {
   "cell_type": "code",
   "execution_count": 35,
   "metadata": {},
   "outputs": [],
   "source": [
    "#Öznitelikleri seçen bir fonksiyon tanımlanır, belirlenen kelimelerin dökümanda olup olmadığı kontrol edilir.\n",
    "def document_features(document):\n",
    "    document_words = set(document)\n",
    "    features = {}\n",
    "    for word in word_features:\n",
    "        features['contains(%s)' %word] = (word in document_words)\n",
    "    return features"
   ]
  },
  {
   "cell_type": "code",
   "execution_count": 36,
   "metadata": {},
   "outputs": [],
   "source": [
    "#Dökümandan üzerinden 'document_features' fonksiyonu ile kendi öznitelik seçimlerimiz yapılır\n",
    "featuresets=[(document_features (d), c) for (d,c) in documents]\n"
   ]
  },
  {
   "cell_type": "code",
   "execution_count": 37,
   "metadata": {},
   "outputs": [
    {
     "data": {
      "text/plain": [
       "2000"
      ]
     },
     "execution_count": 37,
     "metadata": {},
     "output_type": "execute_result"
    }
   ],
   "source": [
    "#Çıkarım yapılan toplam öznitelik sayısı yazılır.\n",
    "len(featuresets)"
   ]
  },
  {
   "cell_type": "code",
   "execution_count": 38,
   "metadata": {},
   "outputs": [],
   "source": [
    "#Çıkarılan öznitelikter eğitim ve test verisi olarak bölünür. \n",
    "train_set, test_set=featuresets[350:], featuresets[:350]"
   ]
  },
  {
   "cell_type": "code",
   "execution_count": 39,
   "metadata": {},
   "outputs": [],
   "source": [
    "#NaiveBayes Sınıflandırıcı ile modelimiz eğitilir.\n",
    "classifier=nltk.NaiveBayesClassifier.train(train_set)"
   ]
  },
  {
   "cell_type": "code",
   "execution_count": 40,
   "metadata": {
    "scrolled": true
   },
   "outputs": [
    {
     "data": {
      "text/plain": [
       "0.7942857142857143"
      ]
     },
     "execution_count": 40,
     "metadata": {},
     "output_type": "execute_result"
    }
   ],
   "source": [
    "#Test verisi kullanılarak eğitilen modele ait başarım oranı görülür.\n",
    "nltk.classify.accuracy(classifier, test_set)"
   ]
  },
  {
   "cell_type": "code",
   "execution_count": 41,
   "metadata": {},
   "outputs": [
    {
     "name": "stdout",
     "output_type": "stream",
     "text": [
      "Most Informative Features\n",
      "     contains(atrocious) = True              neg : pos    =     10.6 : 1.0\n",
      "         contains(sucks) = True              neg : pos    =      9.2 : 1.0\n",
      "      contains(everyday) = True              pos : neg    =      9.2 : 1.0\n",
      "       contains(idiotic) = True              neg : pos    =      8.3 : 1.0\n",
      "        contains(alicia) = True              neg : pos    =      7.2 : 1.0\n",
      "          contains(mena) = True              neg : pos    =      7.2 : 1.0\n",
      "   contains(silverstone) = True              neg : pos    =      7.2 : 1.0\n",
      "        contains(suvari) = True              neg : pos    =      7.2 : 1.0\n",
      "        contains(welles) = True              neg : pos    =      7.2 : 1.0\n",
      "        contains(annual) = True              pos : neg    =      6.8 : 1.0\n"
     ]
    }
   ],
   "source": [
    "#Dökümanda, yapılan analiz hakkında en çok bilgi veren 10 kelime yazdırılır.  \n",
    "classifier.show_most_informative_features(10)"
   ]
  }
 ],
 "metadata": {
  "kernelspec": {
   "display_name": "Python 3",
   "language": "python",
   "name": "python3"
  },
  "language_info": {
   "codemirror_mode": {
    "name": "ipython",
    "version": 3
   },
   "file_extension": ".py",
   "mimetype": "text/x-python",
   "name": "python",
   "nbconvert_exporter": "python",
   "pygments_lexer": "ipython3",
   "version": "3.8.3"
  }
 },
 "nbformat": 4,
 "nbformat_minor": 4
}
